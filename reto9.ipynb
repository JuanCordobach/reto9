{
  "nbformat": 4,
  "nbformat_minor": 0,
  "metadata": {
    "colab": {
      "provenance": [],
      "authorship_tag": "ABX9TyMga+ZgRDrA70xjZSb9hlt1",
      "include_colab_link": true
    },
    "kernelspec": {
      "name": "python3",
      "display_name": "Python 3"
    },
    "language_info": {
      "name": "python"
    }
  },
  "cells": [
    {
      "cell_type": "markdown",
      "metadata": {
        "id": "view-in-github",
        "colab_type": "text"
      },
      "source": [
        "<a href=\"https://colab.research.google.com/github/JuanCordobach/reto9/blob/main/reto9.ipynb\" target=\"_parent\"><img src=\"https://colab.research.google.com/assets/colab-badge.svg\" alt=\"Open In Colab\"/></a>"
      ]
    },
    {
      "cell_type": "markdown",
      "source": [
        "1.Desarrollar un algoritmo que calcule el promedio de un arreglo de reales."
      ],
      "metadata": {
        "id": "9iY3uIFc8WEp"
      }
    },
    {
      "cell_type": "code",
      "execution_count": 2,
      "metadata": {
        "colab": {
          "base_uri": "https://localhost:8080/"
        },
        "id": "awBzDR7d6V_y",
        "outputId": "78d0e358-1a84-4fd2-9a65-9ec61e8d960d"
      },
      "outputs": [
        {
          "output_type": "stream",
          "name": "stdout",
          "text": [
            "Ingresa los valores separados por espacios: 1234567\n",
            "Los valores ingresados son: [1234567.0]\n",
            "El promedio es de: 1234567.0\n"
          ]
        }
      ],
      "source": [
        "\n",
        "entrada = input(\"Ingresa los valores separados por espacios: \")\n",
        "\n",
        "# Convertir la entrada en una lista de números\n",
        "valores = list(map(float, entrada.split()))\n",
        "\n",
        "# Calcular el promedio\n",
        "prom = sum(valores) / len(valores)\n",
        "\n",
        "# Imprimir el arreglo y el promedio\n",
        "print(\"Los valores ingresados son:\", valores)\n",
        "print(\"El promedio es de:\", prom)"
      ]
    },
    {
      "cell_type": "markdown",
      "source": [
        "2.Desarrollar un algoritmo que calcule el producto punto de dos arreglos de números enteros (reales) de igual tamaño."
      ],
      "metadata": {
        "id": "9TyBIN0Z9GgC"
      }
    },
    {
      "cell_type": "code",
      "source": [
        "\n",
        "entrada_x = input(\"Ingresa los valores del primer arreglo separados por espacios: \")\n",
        "entrada_y = input(\"Ingresa los valores del segundo arreglo separados por espacios: \")\n",
        "\n",
        "# Convertir las entradas en listas de números (flotantes)\n",
        "x = list(map(float, entrada_x.split()))\n",
        "y = list(map(float, entrada_y.split()))\n",
        "\n",
        "# Verificar que los arreglos tengan el mismo tamaño\n",
        "if len(x) != len(y):\n",
        "    print(\"Los arreglos deben tener el mismo tamaño.\")\n",
        "else:\n",
        "    # Calcular el producto punto\n",
        "    producto_punto = 0\n",
        "    for i in range(len(x)):\n",
        "        producto_punto += x[i] * y[i]\n",
        "\n",
        "    # Imprimir el resultado\n",
        "    print(\"El producto punto es:\", producto_punto)\n",
        ""
      ],
      "metadata": {
        "colab": {
          "base_uri": "https://localhost:8080/"
        },
        "id": "BeNQLUEj8UoK",
        "outputId": "e191404d-21d7-4f6a-8819-e4f6bf554437"
      },
      "execution_count": 4,
      "outputs": [
        {
          "output_type": "stream",
          "name": "stdout",
          "text": [
            "Ingresa los valores del primer arreglo separados por espacios: 3 8 9 4\n",
            "Ingresa los valores del segundo arreglo separados por espacios: 1 5 7 9\n",
            "El producto punto es: 142.0\n"
          ]
        }
      ]
    },
    {
      "cell_type": "markdown",
      "source": [
        "3.Hacer un algoritmo que deje al final de un arreglo de números todos los ceros que aparezcan en dicho arreglo."
      ],
      "metadata": {
        "id": "7etxVm6G-7JP"
      }
    },
    {
      "cell_type": "code",
      "source": [
        "def mover_ceros_al_final(arreglo): # Definir la función de ceros al final\n",
        "    sin_ceros = [num for num in arreglo if num != 0]  # Crea la lista con los números distintos de 0\n",
        "    cantidad_ceros = arreglo.count(0)  # Contar la cantidad de ceros en la lista ingresada\n",
        "    return sin_ceros + [0] * cantidad_ceros  # Agregar los ceros al final de la lista\n",
        "\n",
        "if __name__ == \"__main__\":\n",
        "    # Entrada del usuario\n",
        "    n = int(input(\"Ingrese el tamaño del arreglo: \"))\n",
        "    arreglo = [] # Lista inicialmente 0vacia\n",
        "\n",
        "    print(\"Ingrese los elementos del arreglo:\")\n",
        "    for _ in range(n):\n",
        "        arreglo.append(int(input())) # Agrega el ultimo número al final de la lista\n",
        "\n",
        "    resultado = mover_ceros_al_final(arreglo) # Procesar el arreglo\n",
        "\n",
        "    print(\"Arreglo con ceros al final:\", resultado) # Mostrar resultado"
      ],
      "metadata": {
        "colab": {
          "base_uri": "https://localhost:8080/"
        },
        "id": "xZgAsnbP--_f",
        "outputId": "d816625a-8d31-41ac-aacb-813dc5694304"
      },
      "execution_count": 7,
      "outputs": [
        {
          "output_type": "stream",
          "name": "stdout",
          "text": [
            "Ingrese el tamaño del arreglo: 9\n",
            "Ingrese los elementos del arreglo:\n",
            "1\n",
            "3\n",
            "6\n",
            "8\n",
            "0\n",
            "7\n",
            "6\n",
            "0\n",
            "5\n",
            "Arreglo con ceros al final: [1, 3, 6, 8, 7, 6, 5, 0, 0]\n"
          ]
        }
      ]
    }
  ]
}